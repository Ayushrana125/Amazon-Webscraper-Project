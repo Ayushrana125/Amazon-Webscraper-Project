{
 "cells": [
  {
   "cell_type": "code",
   "execution_count": 12,
   "id": "78c6e5ec-0297-4714-9c95-7c124ee307d5",
   "metadata": {},
   "outputs": [],
   "source": [
    "from bs4 import BeautifulSoup\n",
    "import requests\n",
    "import time\n",
    "import datetime\n",
    "import csv\n",
    "import pandas as pd\n",
    "import smtplib"
   ]
  },
  {
   "cell_type": "code",
   "execution_count": 14,
   "id": "b1c4d813-6dfc-4ecd-9288-7b0c5a84d2c3",
   "metadata": {},
   "outputs": [
    {
     "name": "stdout",
     "output_type": "stream",
     "text": [
      "\n",
      "                   Visit the Ann Arbor T-shirt Co. Store\n",
      "                  \n"
     ]
    }
   ],
   "source": [
    "#Connect to website\n",
    "\n",
    "url = \"https://www.amazon.com/People-Struggle-Teacher-Teaching-T-shirt/dp/B072B8M16S/ref=sr_1_25_sspa?dib=eyJ2IjoiMSJ9.H_xD2LC8KXJb_HUr4wTcfQOCOC4ApnYnMUNVci9V3Elo3nk0cFO4SGD1vzbYRIyWhCR_fPrzQkpN5OOlplCPyRsCAWmuiDZGBdA18iP29lkDJOtBk-eIUjDwL4G7NQZxRHM3VgpkyzGKYbhgtZLaIFjgUwBivwksHepzIdyGHsRXnyrHrY01eBrtc44Cce0BHyR3UtrALqTKaOkwH3kR1Wu97115NZ_2ewuFFPC_Oox01Mlvx6zhS7PXxEQwLVdIZGMgUiR_H8m8kOhh0fSiD5YLImLtPs49E8sJ-UeVG-s.fbj4MG5gfLYWuaCO9d7-UkHel5afPNkcLDTUlRz78Do&dib_tag=se&keywords=data+analyst+tshirt&qid=1734215400&sr=8-25-spons&sp_csd=d2lkZ2V0TmFtZT1zcF9tdGY&psc=1\"\n",
    "\n",
    "headers = {\"User-Agent\": \"Mozilla/5.0 (Windows NT 10.0; Win64; x64) AppleWebKit/537.36 (KHTML, like Gecko) Chrome/131.0.0.0 Safari/537.36\", \"Accept-Encoding\":\"gzip, deflate\", \"Accept\":\"text/html,application/xhtml+xml,application/xml;q=0.9,*/*;q=0.8\", \"DNT\":\"1\",\"Connection\":\"close\", \"Upgrade-Insecure-Requests\":\"1\"}\n",
    "\n",
    "page = requests.get(url, headers = headers)\n",
    "\n",
    "soup1 = BeautifulSoup(page.content,\"html.parser\")\n",
    "soup2 = BeautifulSoup(soup1.prettify(),\"html.parser\")\n",
    "\n",
    "title = soup2.find(id=\"productTitle\").get_text()\n",
    "price = soup2.find('td', class_=\"a-span12\").get_text()\n",
    "brand = soup2.find(id=\"bylineInfo\").get_text()\n",
    "\n",
    "#print(title)\n",
    "#print(price)\n",
    "print(brand)"
   ]
  },
  {
   "cell_type": "code",
   "execution_count": 16,
   "id": "01539c36-4499-424c-abe3-50f8cb18c6f3",
   "metadata": {},
   "outputs": [
    {
     "name": "stdout",
     "output_type": "stream",
     "text": [
      "5 of 4 People Struggle with Math | Funny School Teacher Teaching Humor T-Shirt\n",
      "9.99\n",
      "Ann Arbor T-shirt Co.\n"
     ]
    }
   ],
   "source": [
    "price = price.strip()[1:5]\n",
    "title = title.strip()\n",
    "brand = brand.strip()[10:-6]\n",
    "\n",
    "print(title)\n",
    "print(price)\n",
    "print(brand)\n"
   ]
  },
  {
   "cell_type": "code",
   "execution_count": 20,
   "id": "d8bdc2ab-5cde-4dce-bf93-68cf0df87933",
   "metadata": {},
   "outputs": [],
   "source": [
    "today = datetime.date.today()\n"
   ]
  },
  {
   "cell_type": "code",
   "execution_count": 22,
   "id": "2ce663be-6820-47f1-92a5-cb11bf07c974",
   "metadata": {},
   "outputs": [],
   "source": [
    "header = ['Title','Price','Brand','Date']\n",
    "data = [title,price,brand,today]\n",
    "\n",
    "with open(r'C:\\Users\\LENOVO\\Desktop\\Python\\Online Learning\\AmazonWebscraperdataset.csv','w', newline= '',encoding= 'UTF8') as f:\n",
    "    writer = csv.writer(f)\n",
    "    writer.writerow(header)\n",
    "    writer.writerow(data)\n",
    "\n"
   ]
  },
  {
   "cell_type": "code",
   "execution_count": 24,
   "id": "04f776ee-4bfd-4604-8e93-2f82a19da84a",
   "metadata": {},
   "outputs": [
    {
     "data": {
      "text/html": [
       "<div>\n",
       "<style scoped>\n",
       "    .dataframe tbody tr th:only-of-type {\n",
       "        vertical-align: middle;\n",
       "    }\n",
       "\n",
       "    .dataframe tbody tr th {\n",
       "        vertical-align: top;\n",
       "    }\n",
       "\n",
       "    .dataframe thead th {\n",
       "        text-align: right;\n",
       "    }\n",
       "</style>\n",
       "<table border=\"1\" class=\"dataframe\">\n",
       "  <thead>\n",
       "    <tr style=\"text-align: right;\">\n",
       "      <th></th>\n",
       "      <th>Title</th>\n",
       "      <th>Price</th>\n",
       "      <th>Brand</th>\n",
       "      <th>Date</th>\n",
       "    </tr>\n",
       "  </thead>\n",
       "  <tbody>\n",
       "    <tr>\n",
       "      <th>0</th>\n",
       "      <td>5 of 4 People Struggle with Math | Funny Schoo...</td>\n",
       "      <td>9.99</td>\n",
       "      <td>Ann Arbor T-shirt Co.</td>\n",
       "      <td>2024-12-26</td>\n",
       "    </tr>\n",
       "  </tbody>\n",
       "</table>\n",
       "</div>"
      ],
      "text/plain": [
       "                                               Title  Price  \\\n",
       "0  5 of 4 People Struggle with Math | Funny Schoo...   9.99   \n",
       "\n",
       "                   Brand        Date  \n",
       "0  Ann Arbor T-shirt Co.  2024-12-26  "
      ]
     },
     "execution_count": 24,
     "metadata": {},
     "output_type": "execute_result"
    }
   ],
   "source": [
    "df = pd.read_csv(r'C:\\Users\\LENOVO\\Desktop\\Python\\Online Learning\\AmazonWebscraperdataset.csv')\n",
    "df"
   ]
  },
  {
   "cell_type": "code",
   "execution_count": 26,
   "id": "9744b8d6-45de-4007-81bc-54fe0b43e735",
   "metadata": {},
   "outputs": [],
   "source": [
    "#Now we are appending data to csv\n",
    "\n",
    "with open(r'C:\\Users\\LENOVO\\Desktop\\Python\\Online Learning\\AmazonWebscraperdataset.csv','a+', newline= '',encoding= 'UTF8') as f:\n",
    "    writer = csv.writer(f)\n",
    "    writer.writerow(data)\n"
   ]
  },
  {
   "cell_type": "code",
   "execution_count": 28,
   "id": "ec124cac-80f2-46fd-b69f-ba54188fb8f4",
   "metadata": {},
   "outputs": [],
   "source": [
    "#while(True):\n",
    "    #check_price()\n",
    "    #time.sleep()"
   ]
  },
  {
   "cell_type": "code",
   "execution_count": 30,
   "id": "15fc6d11-3749-4981-9eba-e3d93383e772",
   "metadata": {},
   "outputs": [],
   "source": [
    "#creating the function to extract data\n",
    "\n",
    "def get_product_details(url):\n",
    "    from bs4 import BeautifulSoup\n",
    "    import requests\n",
    "    import time\n",
    "    import datetime\n",
    "    import csv\n",
    "    import pandas as pd\n",
    "    \n",
    "    #url = \"https://www.amazon.com/People-Struggle-Teacher-Teaching-T-shirt/dp/B072B8M16S/ref=sr_1_25_sspa?dib=eyJ2IjoiMSJ9.H_xD2LC8KXJb_HUr4wTcfQOCOC4ApnYnMUNVci9V3Elo3nk0cFO4SGD1vzbYRIyWhCR_fPrzQkpN5OOlplCPyRsCAWmuiDZGBdA18iP29lkDJOtBk-eIUjDwL4G7NQZxRHM3VgpkyzGKYbhgtZLaIFjgUwBivwksHepzIdyGHsRXnyrHrY01eBrtc44Cce0BHyR3UtrALqTKaOkwH3kR1Wu97115NZ_2ewuFFPC_Oox01Mlvx6zhS7PXxEQwLVdIZGMgUiR_H8m8kOhh0fSiD5YLImLtPs49E8sJ-UeVG-s.fbj4MG5gfLYWuaCO9d7-UkHel5afPNkcLDTUlRz78Do&dib_tag=se&keywords=data+analyst+tshirt&qid=1734215400&sr=8-25-spons&sp_csd=d2lkZ2V0TmFtZT1zcF9tdGY&psc=1\"\n",
    "    url1 = str(url)\n",
    "    \n",
    "    headers = {\"User-Agent\": \"Mozilla/5.0 (Windows NT 10.0; Win64; x64) AppleWebKit/537.36 (KHTML, like Gecko) Chrome/131.0.0.0 Safari/537.36\", \"Accept-Encoding\":\"gzip, deflate\", \"Accept\":\"text/html,application/xhtml+xml,application/xml;q=0.9,*/*;q=0.8\", \"DNT\":\"1\",\"Connection\":\"close\", \"Upgrade-Insecure-Requests\":\"1\"}\n",
    "    \n",
    "    page = requests.get(url1, headers = headers)\n",
    "    \n",
    "    soup1 = BeautifulSoup(page.content,\"html.parser\")\n",
    "    soup2 = BeautifulSoup(soup1.prettify(),\"html.parser\")\n",
    "    \n",
    "    title = soup2.find(id=\"productTitle\").get_text()\n",
    "    price = soup2.find('td', class_=\"a-span12\").get_text()\n",
    "    brand = soup2.find(id=\"bylineInfo\").get_text()\n",
    "\n",
    "    price = price.strip()[1:5]\n",
    "    title = title.strip()\n",
    "    brand = brand.strip()[10:-6]\n",
    "\n",
    "    today = datetime.date.today()\n",
    "    header = ['Title','Price','Brand','Date']\n",
    "    data = [title,price,brand,today]\n",
    "\n",
    "    with open(r'C:\\Users\\LENOVO\\Desktop\\Python\\Online Learning\\AmazonWebscraperdataset.csv','a+', newline= '',encoding= 'UTF8') as f:\n",
    "        writer = csv.writer(f)\n",
    "        writer.writerow(data)\n",
    "\n",
    "\n",
    "    "
   ]
  },
  {
   "cell_type": "code",
   "execution_count": 32,
   "id": "0a66a138-da16-4bff-b159-dae66f765bb9",
   "metadata": {},
   "outputs": [],
   "source": [
    "get_product_details(\"https://www.amazon.com/sspa/click?ie=UTF8&spc=MToxMTg1MDQyMDYwNjEzMzQ1OjE3MzQyNzQ0NTI6c3BfZGV0YWlsX3RoZW1hdGljOjIwMDEyMDc2MjE4MTk5ODo6Ojo&url=%2Fdp%2FB00VJ8NZM2%2Fref%3Dsspa_dk_detail_2%3Fpsc%3D1%26pd_rd_i%3DB00VJ8NZM2%26pd_rd_w%3DJ15oJ%26content-id%3Damzn1.sym.e1bd46f6-106d-4001-8a1f-c5226d6c67ac%26pf_rd_p%3De1bd46f6-106d-4001-8a1f-c5226d6c67ac%26pf_rd_r%3DAXQX8D0Y6H4KC11M3QBQ%26pd_rd_wg%3D9YNhm%26pd_rd_r%3D4ee09ec0-596d-4124-9858-50fa9e86905d%26s%3Dapparel%26sp_csd%3Dd2lkZ2V0TmFtZT1zcF9kZXRhaWxfdGhlbWF0aWM\")\n"
   ]
  },
  {
   "cell_type": "code",
   "execution_count": 38,
   "id": "6330f9b7-926a-438a-8519-5a766def4479",
   "metadata": {},
   "outputs": [
    {
     "data": {
      "text/html": [
       "<div>\n",
       "<style scoped>\n",
       "    .dataframe tbody tr th:only-of-type {\n",
       "        vertical-align: middle;\n",
       "    }\n",
       "\n",
       "    .dataframe tbody tr th {\n",
       "        vertical-align: top;\n",
       "    }\n",
       "\n",
       "    .dataframe thead th {\n",
       "        text-align: right;\n",
       "    }\n",
       "</style>\n",
       "<table border=\"1\" class=\"dataframe\">\n",
       "  <thead>\n",
       "    <tr style=\"text-align: right;\">\n",
       "      <th></th>\n",
       "      <th>Title</th>\n",
       "      <th>Price</th>\n",
       "      <th>Brand</th>\n",
       "      <th>Date</th>\n",
       "    </tr>\n",
       "  </thead>\n",
       "  <tbody>\n",
       "    <tr>\n",
       "      <th>0</th>\n",
       "      <td>5 of 4 People Struggle with Math | Funny Schoo...</td>\n",
       "      <td>9.99</td>\n",
       "      <td>Ann Arbor T-shirt Co.</td>\n",
       "      <td>2024-12-26</td>\n",
       "    </tr>\n",
       "    <tr>\n",
       "      <th>1</th>\n",
       "      <td>5 of 4 People Struggle with Math | Funny Schoo...</td>\n",
       "      <td>9.99</td>\n",
       "      <td>Ann Arbor T-shirt Co.</td>\n",
       "      <td>2024-12-26</td>\n",
       "    </tr>\n",
       "    <tr>\n",
       "      <th>2</th>\n",
       "      <td>Hi I Don't Care Thanks Sarcastic Novelty Witty...</td>\n",
       "      <td>14.90</td>\n",
       "      <td>Feelin Good Tees</td>\n",
       "      <td>2024-12-26</td>\n",
       "    </tr>\n",
       "  </tbody>\n",
       "</table>\n",
       "</div>"
      ],
      "text/plain": [
       "                                               Title  Price  \\\n",
       "0  5 of 4 People Struggle with Math | Funny Schoo...   9.99   \n",
       "1  5 of 4 People Struggle with Math | Funny Schoo...   9.99   \n",
       "2  Hi I Don't Care Thanks Sarcastic Novelty Witty...  14.90   \n",
       "\n",
       "                   Brand        Date  \n",
       "0  Ann Arbor T-shirt Co.  2024-12-26  \n",
       "1  Ann Arbor T-shirt Co.  2024-12-26  \n",
       "2       Feelin Good Tees  2024-12-26  "
      ]
     },
     "execution_count": 38,
     "metadata": {},
     "output_type": "execute_result"
    }
   ],
   "source": [
    "df = pd.read_csv(r'C:\\Users\\LENOVO\\Desktop\\Python\\Online Learning\\AmazonWebscraperdataset.csv')\n",
    "df"
   ]
  },
  {
   "cell_type": "code",
   "execution_count": null,
   "id": "57c10c19-acdc-4adc-8141-de1b8eadb61d",
   "metadata": {},
   "outputs": [],
   "source": []
  }
 ],
 "metadata": {
  "kernelspec": {
   "display_name": "Python [conda env:base] *",
   "language": "python",
   "name": "conda-base-py"
  },
  "language_info": {
   "codemirror_mode": {
    "name": "ipython",
    "version": 3
   },
   "file_extension": ".py",
   "mimetype": "text/x-python",
   "name": "python",
   "nbconvert_exporter": "python",
   "pygments_lexer": "ipython3",
   "version": "3.12.7"
  }
 },
 "nbformat": 4,
 "nbformat_minor": 5
}
